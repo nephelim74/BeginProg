{
  "nbformat": 4,
  "nbformat_minor": 0,
  "metadata": {
    "colab": {
      "provenance": [],
      "authorship_tag": "ABX9TyMQJL0QKtOpgPt2YyuQWy8Y",
      "include_colab_link": true
    },
    "kernelspec": {
      "name": "python3",
      "display_name": "Python 3"
    },
    "language_info": {
      "name": "python"
    }
  },
  "cells": [
    {
      "cell_type": "markdown",
      "metadata": {
        "id": "view-in-github",
        "colab_type": "text"
      },
      "source": [
        "<a href=\"https://colab.research.google.com/github/nephelim74/BeginProg/blob/main/spark_dz1.ipynb\" target=\"_parent\"><img src=\"https://colab.research.google.com/assets/colab-badge.svg\" alt=\"Open In Colab\"/></a>"
      ]
    },
    {
      "cell_type": "code",
      "execution_count": 4,
      "metadata": {
        "id": "p8gN5lh9EISW"
      },
      "outputs": [],
      "source": [
        "from pyspark import SparkContext"
      ]
    },
    {
      "cell_type": "code",
      "source": [
        "# Инициализация SparkContext\n",
        "sc = SparkContext(\"local\", \"LongestOrderedSequence\")\n",
        "\n",
        "# Пример данных\n",
        "data = [1, 2, 3, 2, 5, 6, 7, 8, 1, 2, 3, 4, 5, 10, 11, 2, 3, 50, 44, 45, 46, 47, 48, 49, 50, 51, 7, 8, 2, 7]\n",
        "rdd = sc.parallelize(data)\n"
      ],
      "metadata": {
        "id": "du0qpue-EU2W"
      },
      "execution_count": 13,
      "outputs": []
    },
    {
      "cell_type": "code",
      "source": [
        "# Функция для нахождения самой длинной последовательности упорядоченных чисел\n",
        "def longest_ordered_sequence(numbers):\n",
        "    longest_seq = []\n",
        "    current_seq = []\n",
        "\n",
        "    for i in range(len(numbers)):\n",
        "        # Если это первый элемент или текущий элемент больше предыдущего\n",
        "        if i == 0 or numbers[i] > numbers[i - 1]:\n",
        "            current_seq.append(numbers[i])\n",
        "        else:\n",
        "            # Сравниваем текущую последовательность с самой длинной\n",
        "            if len(current_seq) > len(longest_seq):\n",
        "                longest_seq = current_seq\n",
        "            current_seq = [numbers[i]]  # Начинаем новую последовательность\n",
        "\n",
        "    # Проверяем в конце, чтобы учесть последовательность, которая может закончиться последним элементом\n",
        "    if len(current_seq) > len(longest_seq):\n",
        "        longest_seq = current_seq\n",
        "\n",
        "    return longest_seq\n"
      ],
      "metadata": {
        "id": "yqI7lOdCEJrD"
      },
      "execution_count": 14,
      "outputs": []
    },
    {
      "cell_type": "code",
      "source": [
        "# Применение функции к RDD\n",
        "result = rdd.collect()  # Собираем данные из RDD в список\n",
        "longest_sequence = longest_ordered_sequence(result)\n",
        "\n",
        "# Вывод результата\n",
        "print(\"Самая длинная последовательность упорядоченных чисел:\", longest_sequence)"
      ],
      "metadata": {
        "colab": {
          "base_uri": "https://localhost:8080/"
        },
        "id": "cM7nVw4EEJw5",
        "outputId": "71f7edd3-ee35-41d9-d95e-aa1475069a4f"
      },
      "execution_count": 15,
      "outputs": [
        {
          "output_type": "stream",
          "name": "stdout",
          "text": [
            "Самая длинная последовательность упорядоченных чисел: [44, 45, 46, 47, 48, 49, 50, 51]\n"
          ]
        }
      ]
    },
    {
      "cell_type": "code",
      "source": [
        "# Остановка SparkContext\n",
        "sc.stop()"
      ],
      "metadata": {
        "id": "DXXHrk91EJ1r"
      },
      "execution_count": 16,
      "outputs": []
    },
    {
      "cell_type": "code",
      "source": [],
      "metadata": {
        "id": "YunhXgzgEKSV"
      },
      "execution_count": null,
      "outputs": []
    }
  ]
}