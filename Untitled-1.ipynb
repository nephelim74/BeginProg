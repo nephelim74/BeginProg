{
 "cells": [
  {
   "cell_type": "code",
   "execution_count": 1,
   "metadata": {},
   "outputs": [
    {
     "name": "stdout",
     "output_type": "stream",
     "text": [
      "[1, 2, 3, 4, 5, 6, 7, 8, 9, 10, 11, 12, 13, 14, 15, 16, 17]\n",
      "[17, 16, 15, 14, 13, 12, 11, 10, 9, 8, 7, 6, 5, 4, 3, 2, 1]\n"
     ]
    }
   ],
   "source": [
    "array = [1,2,3,4,5,6,7,8,9,10,11,12,13,14,15,16,17]\n",
    "LenArray = len(array)\n",
    "i=0\n",
    "print(array)\n",
    "while i < LenArray - i -1:\n",
    "    temp = array[i]\n",
    "    array[i]=array[LenArray-i-1]\n",
    "    array[LenArray-i-1]=temp\n",
    "    i=i+1\n",
    "print(array)"
   ]
  },
  {
   "cell_type": "code",
   "execution_count": 1,
   "metadata": {},
   "outputs": [
    {
     "name": "stdout",
     "output_type": "stream",
     "text": [
      "Максимальное значение: 7654, Индекс: 5\n",
      "Минимальное значение: -14, Индекс: 14\n"
     ]
    }
   ],
   "source": [
    "array = [88,8,22,5,1,7654,2,8,7,3,11,32,98,23,-14,3]\n",
    "Min = array[0]\n",
    "MinIndex = 0\n",
    "Max = array[0]\n",
    "MaxIndex = 0\n",
    "i = 0\n",
    "while i < len(array)-1:\n",
    "  if Min > array[i+1]:\n",
    "    Min = array[i+1]\n",
    "    MinIndex = i+1\n",
    "  if Max < array[i+1]:\n",
    "    Max = array[i+1]\n",
    "    MaxIndex = i+1\n",
    "  i = i +1\n",
    "print(f\"Максимальное значение: {Max}, Индекс: {MaxIndex}\")\n",
    "print(f\"Минимальное значение: {Min}, Индекс: {MinIndex}\")"
   ]
  },
  {
   "cell_type": "code",
   "execution_count": 17,
   "metadata": {},
   "outputs": [
    {
     "name": "stdout",
     "output_type": "stream",
     "text": [
      "Сумма чисел в диапазоне между значений с индексами 14 и 6 равна 184\n"
     ]
    }
   ],
   "source": [
    "array = [7,12,121,44,11,23,1171,12,34,15,12,76,23,12,4]\n",
    "Min = array[0]\n",
    "MinIndex = 0\n",
    "Max = array[0]\n",
    "MaxIndex = 0\n",
    "i = 0\n",
    "SUM = 0\n",
    "while i < len(array)-1:\n",
    "  if Min >= array[i+1]:\n",
    "    Min = array[i+1]\n",
    "    MinIndex = i+1\n",
    "  elif Max <= array[i+1]:\n",
    "    Max = array[i+1]\n",
    "    MaxIndex = i+1\n",
    "  i = i +1\n",
    "if MaxIndex > MinIndex:\n",
    "  i = MinIndex + 1\n",
    "  while i < MaxIndex:\n",
    "    SUM = SUM + array[i]\n",
    "    i = i + 1\n",
    "elif MaxIndex < MinIndex:\n",
    "  i = MaxIndex + 1\n",
    "  while i < MinIndex:\n",
    "    SUM = SUM + array[i]\n",
    "    i = i + 1\n",
    "print(f'Сумма чисел в диапазоне между значений с индексами {MinIndex} и {MaxIndex} равна {SUM}')"
   ]
  },
  {
   "cell_type": "code",
   "execution_count": 15,
   "metadata": {},
   "outputs": [
    {
     "name": "stdout",
     "output_type": "stream",
     "text": [
      "[18, 52, 43, 94, 25, 6, 7, 98, 2, 101, 11, 12] / 12 = 39.083333333333336\n"
     ]
    }
   ],
   "source": [
    "array = [18,52,43,94,25,6,7,98,2,101,11,12]\n",
    "LenArray = len(array)\n",
    "i=0\n",
    "Sum = 0\n",
    "while i < LenArray:\n",
    "    Sum = Sum + array[i]\n",
    "    i=i+1\n",
    "Sum = Sum/LenArray\n",
    "print(f'{array} / {LenArray} = {Sum}')"
   ]
  }
 ],
 "metadata": {
  "kernelspec": {
   "display_name": "Python 3",
   "language": "python",
   "name": "python3"
  },
  "language_info": {
   "codemirror_mode": {
    "name": "ipython",
    "version": 3
   },
   "file_extension": ".py",
   "mimetype": "text/x-python",
   "name": "python",
   "nbconvert_exporter": "python",
   "pygments_lexer": "ipython3",
   "version": "3.11.8"
  }
 },
 "nbformat": 4,
 "nbformat_minor": 2
}
